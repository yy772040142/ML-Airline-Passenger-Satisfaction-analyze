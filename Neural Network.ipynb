{
 "cells": [
  {
   "cell_type": "markdown",
   "id": "cd030b01",
   "metadata": {},
   "source": [
    "# 数据预处理"
   ]
  },
  {
   "cell_type": "code",
   "execution_count": 23,
   "id": "39a9e0f1",
   "metadata": {},
   "outputs": [],
   "source": [
    "import pandas as pd\n",
    "import matplotlib.pyplot as plt\n",
    "import numpy as np\n",
    "import torch\n",
    "import torch.nn.functional as F\n",
    "from sklearn.metrics import accuracy_score\n",
    "from torch import nn\n",
    "from sklearn.preprocessing import StandardScaler\n",
    "from sklearn.model_selection import train_test_split\n",
    "from torch.utils.data import TensorDataset\n",
    "import matplotlib.pyplot as plt\n",
    "from torch.utils.data import DataLoader\n",
    "from time import time\n",
    "import datetime\n",
    "   \n",
    "train_data = pd.read_csv(\"train.csv\",index_col = 0)\n",
    "test_data = pd.read_csv(\"test.csv\",index_col = 0)\n",
    "data = pd.concat([train_data,test_data],ignore_index=True) #ignore_index 索引拼接"
   ]
  },
  {
   "cell_type": "code",
   "execution_count": 24,
   "id": "4bde0390",
   "metadata": {},
   "outputs": [],
   "source": [
    "#删除同预测的y没有关系的列\n",
    "data.drop([\"id\"],inplace=True,axis=1)"
   ]
  },
  {
   "cell_type": "code",
   "execution_count": 25,
   "id": "4f176955",
   "metadata": {},
   "outputs": [],
   "source": [
    "data.loc[data[\"Arrival Delay in Minutes\"].isnull(),\"Arrival Delay in Minutes\"]=0 #填补0\n",
    "#将二分类变量转换为数值型变量\n",
    "data[\"Gender\"] = (data[\"Gender\"]== \"Male\").astype(\"int\")\n",
    "customer_type = data[\"Customer Type\"].unique().tolist()\n",
    "data[\"Customer Type\"] = data[\"Customer Type\"].apply(lambda x: customer_type.index(x))\n",
    "type_of_travel = data[\"Type of Travel\"].unique().tolist()\n",
    "data[\"Type of Travel\"] = data[\"Type of Travel\"].apply(lambda x: type_of_travel.index(x))\n",
    "data_class = train_data[\"Class\"].unique().tolist()\n",
    "data[\"Class\"] = data[\"Class\"].apply(lambda x: data_class .index(x))\n",
    "satisfaction = data[\"satisfaction\"].unique().tolist()\n",
    "data[\"satisfaction\"]= data[\"satisfaction\"].apply(lambda x: satisfaction.index(x))"
   ]
  },
  {
   "cell_type": "code",
   "execution_count": 26,
   "id": "4a77881f",
   "metadata": {},
   "outputs": [
    {
     "data": {
      "text/html": [
       "<div>\n",
       "<style scoped>\n",
       "    .dataframe tbody tr th:only-of-type {\n",
       "        vertical-align: middle;\n",
       "    }\n",
       "\n",
       "    .dataframe tbody tr th {\n",
       "        vertical-align: top;\n",
       "    }\n",
       "\n",
       "    .dataframe thead th {\n",
       "        text-align: right;\n",
       "    }\n",
       "</style>\n",
       "<table border=\"1\" class=\"dataframe\">\n",
       "  <thead>\n",
       "    <tr style=\"text-align: right;\">\n",
       "      <th></th>\n",
       "      <th>Gender</th>\n",
       "      <th>Customer Type</th>\n",
       "      <th>Age</th>\n",
       "      <th>Type of Travel</th>\n",
       "      <th>Class</th>\n",
       "      <th>Flight Distance</th>\n",
       "      <th>Inflight wifi service</th>\n",
       "      <th>Departure/Arrival time convenient</th>\n",
       "      <th>Ease of Online booking</th>\n",
       "      <th>Gate location</th>\n",
       "      <th>...</th>\n",
       "      <th>Inflight entertainment</th>\n",
       "      <th>On-board service</th>\n",
       "      <th>Leg room service</th>\n",
       "      <th>Baggage handling</th>\n",
       "      <th>Checkin service</th>\n",
       "      <th>Inflight service</th>\n",
       "      <th>Cleanliness</th>\n",
       "      <th>Departure Delay in Minutes</th>\n",
       "      <th>Arrival Delay in Minutes</th>\n",
       "      <th>satisfaction</th>\n",
       "    </tr>\n",
       "  </thead>\n",
       "  <tbody>\n",
       "    <tr>\n",
       "      <th>0</th>\n",
       "      <td>1</td>\n",
       "      <td>0</td>\n",
       "      <td>13</td>\n",
       "      <td>0</td>\n",
       "      <td>0</td>\n",
       "      <td>460</td>\n",
       "      <td>3</td>\n",
       "      <td>4</td>\n",
       "      <td>3</td>\n",
       "      <td>1</td>\n",
       "      <td>...</td>\n",
       "      <td>5</td>\n",
       "      <td>4</td>\n",
       "      <td>3</td>\n",
       "      <td>4</td>\n",
       "      <td>4</td>\n",
       "      <td>5</td>\n",
       "      <td>5</td>\n",
       "      <td>25</td>\n",
       "      <td>18.0</td>\n",
       "      <td>0</td>\n",
       "    </tr>\n",
       "    <tr>\n",
       "      <th>1</th>\n",
       "      <td>1</td>\n",
       "      <td>1</td>\n",
       "      <td>25</td>\n",
       "      <td>1</td>\n",
       "      <td>1</td>\n",
       "      <td>235</td>\n",
       "      <td>3</td>\n",
       "      <td>2</td>\n",
       "      <td>3</td>\n",
       "      <td>3</td>\n",
       "      <td>...</td>\n",
       "      <td>1</td>\n",
       "      <td>1</td>\n",
       "      <td>5</td>\n",
       "      <td>3</td>\n",
       "      <td>1</td>\n",
       "      <td>4</td>\n",
       "      <td>1</td>\n",
       "      <td>1</td>\n",
       "      <td>6.0</td>\n",
       "      <td>0</td>\n",
       "    </tr>\n",
       "    <tr>\n",
       "      <th>2</th>\n",
       "      <td>0</td>\n",
       "      <td>0</td>\n",
       "      <td>26</td>\n",
       "      <td>1</td>\n",
       "      <td>1</td>\n",
       "      <td>1142</td>\n",
       "      <td>2</td>\n",
       "      <td>2</td>\n",
       "      <td>2</td>\n",
       "      <td>2</td>\n",
       "      <td>...</td>\n",
       "      <td>5</td>\n",
       "      <td>4</td>\n",
       "      <td>3</td>\n",
       "      <td>4</td>\n",
       "      <td>4</td>\n",
       "      <td>4</td>\n",
       "      <td>5</td>\n",
       "      <td>0</td>\n",
       "      <td>0.0</td>\n",
       "      <td>1</td>\n",
       "    </tr>\n",
       "    <tr>\n",
       "      <th>3</th>\n",
       "      <td>0</td>\n",
       "      <td>0</td>\n",
       "      <td>25</td>\n",
       "      <td>1</td>\n",
       "      <td>1</td>\n",
       "      <td>562</td>\n",
       "      <td>2</td>\n",
       "      <td>5</td>\n",
       "      <td>5</td>\n",
       "      <td>5</td>\n",
       "      <td>...</td>\n",
       "      <td>2</td>\n",
       "      <td>2</td>\n",
       "      <td>5</td>\n",
       "      <td>3</td>\n",
       "      <td>1</td>\n",
       "      <td>4</td>\n",
       "      <td>2</td>\n",
       "      <td>11</td>\n",
       "      <td>9.0</td>\n",
       "      <td>0</td>\n",
       "    </tr>\n",
       "    <tr>\n",
       "      <th>4</th>\n",
       "      <td>1</td>\n",
       "      <td>0</td>\n",
       "      <td>61</td>\n",
       "      <td>1</td>\n",
       "      <td>1</td>\n",
       "      <td>214</td>\n",
       "      <td>3</td>\n",
       "      <td>3</td>\n",
       "      <td>3</td>\n",
       "      <td>3</td>\n",
       "      <td>...</td>\n",
       "      <td>3</td>\n",
       "      <td>3</td>\n",
       "      <td>4</td>\n",
       "      <td>4</td>\n",
       "      <td>3</td>\n",
       "      <td>3</td>\n",
       "      <td>3</td>\n",
       "      <td>0</td>\n",
       "      <td>0.0</td>\n",
       "      <td>1</td>\n",
       "    </tr>\n",
       "  </tbody>\n",
       "</table>\n",
       "<p>5 rows × 23 columns</p>\n",
       "</div>"
      ],
      "text/plain": [
       "   Gender  Customer Type  Age  Type of Travel  Class  Flight Distance  \\\n",
       "0       1              0   13               0      0              460   \n",
       "1       1              1   25               1      1              235   \n",
       "2       0              0   26               1      1             1142   \n",
       "3       0              0   25               1      1              562   \n",
       "4       1              0   61               1      1              214   \n",
       "\n",
       "   Inflight wifi service  Departure/Arrival time convenient  \\\n",
       "0                      3                                  4   \n",
       "1                      3                                  2   \n",
       "2                      2                                  2   \n",
       "3                      2                                  5   \n",
       "4                      3                                  3   \n",
       "\n",
       "   Ease of Online booking  Gate location  ...  Inflight entertainment  \\\n",
       "0                       3              1  ...                       5   \n",
       "1                       3              3  ...                       1   \n",
       "2                       2              2  ...                       5   \n",
       "3                       5              5  ...                       2   \n",
       "4                       3              3  ...                       3   \n",
       "\n",
       "   On-board service  Leg room service  Baggage handling  Checkin service  \\\n",
       "0                 4                 3                 4                4   \n",
       "1                 1                 5                 3                1   \n",
       "2                 4                 3                 4                4   \n",
       "3                 2                 5                 3                1   \n",
       "4                 3                 4                 4                3   \n",
       "\n",
       "   Inflight service  Cleanliness  Departure Delay in Minutes  \\\n",
       "0                 5            5                          25   \n",
       "1                 4            1                           1   \n",
       "2                 4            5                           0   \n",
       "3                 4            2                          11   \n",
       "4                 3            3                           0   \n",
       "\n",
       "   Arrival Delay in Minutes  satisfaction  \n",
       "0                      18.0             0  \n",
       "1                       6.0             0  \n",
       "2                       0.0             1  \n",
       "3                       9.0             0  \n",
       "4                       0.0             1  \n",
       "\n",
       "[5 rows x 23 columns]"
      ]
     },
     "execution_count": 26,
     "metadata": {},
     "output_type": "execute_result"
    }
   ],
   "source": [
    "data.head()"
   ]
  },
  {
   "cell_type": "code",
   "execution_count": 27,
   "id": "7d02c4fd",
   "metadata": {},
   "outputs": [],
   "source": [
    "x = data.iloc[:,data.columns != \"satisfaction\"]\n",
    "y = data.iloc[:,data.columns == \"satisfaction\"]\n",
    "Xtrain, Xtest, Ytrain, Ytest = train_test_split(x,y,test_size=0.3)\n",
    "#修正测试集和训练集的索引\n",
    "for i in [Xtrain, Xtest, Ytrain, Ytest]:\n",
    "    i.index = range(i.shape[0])\n"
   ]
  },
  {
   "cell_type": "code",
   "execution_count": 28,
   "id": "5fa2f935",
   "metadata": {},
   "outputs": [],
   "source": [
    "#Xtrain = torch.tensor(np.array(Xtrain))\n",
    "std = StandardScaler()\n",
    "Xtrain= std.fit_transform(Xtrain)\n",
    "Xtest= std.fit_transform(Xtest)"
   ]
  },
  {
   "cell_type": "code",
   "execution_count": 29,
   "id": "fc457d8f",
   "metadata": {},
   "outputs": [
    {
     "name": "stdout",
     "output_type": "stream",
     "text": [
      "90916\n"
     ]
    }
   ],
   "source": [
    "x_train, y_train, x_valid, y_valid= map(\n",
    "    torch.tensor, (Xtrain, np.array(Ytrain),Xtest,np.array(Ytest))\n",
    ")\n",
    "y_train=y_train.reshape([-1])\n",
    "y_valid =y_valid.reshape([-1])\n",
    "bs=1000\n",
    "#先构造tensorDataset\n",
    "#然后采用DataLoader指定batch_size去取数据，不用再去写取数据的方法，shuffle=True表示洗牌\n",
    "train_ds = TensorDataset(x_train, y_train)\n",
    "train_dl = DataLoader(train_ds, batch_size=bs, shuffle=True)\n",
    "\n",
    "valid_ds = TensorDataset(x_valid, y_valid)\n",
    "valid_dl = DataLoader(valid_ds, batch_size=bs * 2)\n",
    "print(len(train_ds))"
   ]
  },
  {
   "cell_type": "code",
   "execution_count": 30,
   "id": "14cb2d89",
   "metadata": {},
   "outputs": [],
   "source": [
    "def tarin_model(model):\n",
    "    epochs =300\n",
    "    device = torch.device(\"cpu\" if torch.cuda.is_available() else \"cpu\")\n",
    "    learning_rate = 0.01\n",
    "    optimizer = torch.optim.SGD(model.parameters(), lr=learning_rate)\n",
    "    loss_func = F.cross_entropy\n",
    "    model = model.double()\n",
    "    model = model.to(device)\n",
    "    train_acc=[]\n",
    "    vaild_acc=[]\n",
    "    loss_train=[]\n",
    "    loss_vaild = []\n",
    "    for epoch in range(epochs):\n",
    "        train_total_correct = 0\n",
    "        vaild_total_correct = 0\n",
    "            \n",
    "        epoch += 1\n",
    "        for xb, yb in train_dl:\n",
    "            xb= xb.to(device)\n",
    "            yb= yb.to(device)\n",
    "            out = model(xb)\n",
    "            out.to(device)\n",
    "            train_loss = loss_func(out, yb)\n",
    "            optimizer.zero_grad()\n",
    "            train_loss.backward()\n",
    "            optimizer.step()\n",
    "        if epoch%10==0:\n",
    "            for xb, yb in train_dl:\n",
    "                xb = xb.to(device)\n",
    "                yb = yb.to(device)\n",
    "                out1 =  model(xb)\n",
    "                pred1 = out1.argmax(dim=1)\n",
    "                train_correct = pred1.eq(yb).sum()\n",
    "                train_total_correct +=train_correct\n",
    "            total_num = len(train_ds)\n",
    "            trainacc = train_total_correct/total_num\n",
    "            for xv, yv in valid_dl:\n",
    "                xv = xv.to(device)\n",
    "                yv = yv.to(device)\n",
    "                out2 =  model(xv)\n",
    "                valid_loss = loss_func(out2, yv)\n",
    "                pred2 = out2.argmax(dim=1)\n",
    "                valid_correct = pred2.eq(yv).sum()\n",
    "                vaild_total_correct +=valid_correct\n",
    "            total_num = len(valid_ds)\n",
    "            validacc = vaild_total_correct/total_num\n",
    "            print('epoch {},训练集 loss：{},训练集acc: {},验证集 loss：{},验证集 acc: {}'.format(epoch, train_loss.item(),trainacc,valid_loss.item(),validacc))\n",
    "            train_acc.append(trainacc)\n",
    "            vaild_acc.append(validacc)\n",
    "            loss_train.append(train_loss.item())\n",
    "            loss_vaild.append(valid_loss.item())\n",
    "        \n",
    "    return  train_acc,vaild_acc,loss_train,loss_vaild\n",
    "\n"
   ]
  },
  {
   "cell_type": "code",
   "execution_count": 269,
   "id": "cdc12abf",
   "metadata": {},
   "outputs": [],
   "source": [
    "def draw_plot(epoch,train,vaild,flag):\n",
    "#     decrease=np.linspace(0,300,300)\n",
    "#     xticks=np.linspace(0,300,10)\n",
    "#     print(xticks)\n",
    "    plt.plot((range(0,300,10)),train,color=\"red\",label=\"train\")\n",
    "    plt.plot((range(0,300,10)),vaild,color=\"blue\",label=\"vaild\")\n",
    "    plt.xlabel('epoch',fontsize=16)\n",
    "    plt.ylabel(flag, fontsize=16)\n",
    "    plt.xticks(range(20,320,20),fontsize=13)\n",
    "    plt.yticks(fontsize=13)\n",
    "    plt.legend(prop={\"family\": \"Times New Roman\", \"size\": 13})\n",
    "    plt.show()\n",
    "# def draw_plot(epoch,acc_train,acc_vaild,loss_train,loss_vaild):\n",
    "  \n",
    "#     fig, axes = plt.subplots(1,2,figsize=(28,10))\n",
    "#     axes[0].set_title(\"Loss\")\n",
    "#     axes[0].plot(range(10,310,10),loss_train,color=\"red\",label=\"train\")\n",
    "#     axes[0].plot(range(10,310,10),loss_vaild,color=\"blue\",label=\"test\")\n",
    "#     axes[0].set_xlabel('epoch')\n",
    "#     axes[0].set_ylabel('loss')\n",
    "#     axes[0].set_xticks(range(30,330,30))\n",
    "#     axes[0].legend()\n",
    "    \n",
    "#     axes[1].set_title(\"Accuracy\")\n",
    "#     axes[1].plot(range(10,310,10),acc_train,color=\"red\",label=\"train\")\n",
    "#     axes[1].plot(range(10,310,10),acc_vaild,color=\"blue\",label=\"test\")\n",
    "#     axes[1].set_xlabel('epoch')\n",
    "#     axes[1].set_ylabel('accuracy')\n",
    "#     axes[1].set_xticks(range(30,330,30))\n",
    "#     axes[1].legend()\n",
    "#     plt.show()\n",
    "   "
   ]
  },
  {
   "cell_type": "markdown",
   "id": "73ec9cfa",
   "metadata": {},
   "source": [
    "# 人工神经网络"
   ]
  },
  {
   "cell_type": "code",
   "execution_count": 32,
   "id": "9734b269",
   "metadata": {},
   "outputs": [],
   "source": [
    "class ANN(nn.Module):\n",
    "    def __init__(self):\n",
    "        super().__init__()\n",
    "        self.layer  = nn.Linear(22,2)\n",
    "        self.out = nn.Sigmoid()\n",
    "\n",
    "    def forward(self, x):\n",
    "        x = F.relu(self.layer(x))\n",
    "        #print(x)\n",
    "        x = self.out(x)\n",
    "        #print(x)\n",
    "        return x\n"
   ]
  },
  {
   "cell_type": "code",
   "execution_count": 36,
   "id": "15235c9e",
   "metadata": {
    "code_folding": [
     1
    ],
    "scrolled": true
   },
   "outputs": [
    {
     "name": "stdout",
     "output_type": "stream",
     "text": [
      "epoch 10,训练集 loss：0.6231956514471283,训练集acc: 0.8189207911491394,验证集 loss：0.6288076336242062,验证集 acc: 0.8185760974884033\n",
      "epoch 20,训练集 loss：0.5892007741471782,训练集acc: 0.8361454606056213,验证集 loss：0.5957709408816784,验证集 acc: 0.8370034098625183\n",
      "epoch 30,训练集 loss：0.5820835947218976,训练集acc: 0.8459126949310303,验证集 loss：0.5809446252457938,验证集 acc: 0.8460630178451538\n",
      "epoch 40,训练集 loss：0.5680750527270116,训练集acc: 0.8523252010345459,验证集 loss：0.5720019516290616,验证集 acc: 0.8528128266334534\n",
      "epoch 50,训练集 loss：0.5652604868405184,训练集acc: 0.8574618101119995,验证集 loss：0.5660554083595992,验证集 acc: 0.8576378226280212\n",
      "epoch 60,训练集 loss：0.5607976828090615,训练集acc: 0.8605526089668274,验证集 loss：0.561765963974029,验证集 acc: 0.8605379462242126\n",
      "epoch 70,训练集 loss：0.5546193370505839,训练集acc: 0.863335371017456,验证集 loss：0.5585822727168767,验证集 acc: 0.8632070422172546\n",
      "epoch 80,训练集 loss：0.5552124585674765,训练集acc: 0.8648532629013062,验证集 loss：0.5561411452061663,验证集 acc: 0.8651319146156311\n",
      "epoch 90,训练集 loss：0.5585013687257516,训练集acc: 0.8661621809005737,验证集 loss：0.5541960960192539,验证集 acc: 0.8662098050117493\n",
      "epoch 100,训练集 loss：0.5449089273377345,训练集acc: 0.8672400712966919,验证集 loss：0.552619041459817,验证集 acc: 0.8674930930137634\n",
      "epoch 110,训练集 loss：0.5466262493116801,训练集acc: 0.8681420087814331,验证集 loss：0.5513244654175621,验证集 acc: 0.8685709834098816\n",
      "epoch 120,训练集 loss：0.5496805748338907,训练集acc: 0.8690109848976135,验证集 loss：0.5502348260232591,验证集 acc: 0.8691099286079407\n",
      "epoch 130,训练集 loss：0.5539852274435055,训练集acc: 0.8695499300956726,验证集 loss：0.5492900509010238,验证集 acc: 0.8697515726089478\n",
      "epoch 140,训练集 loss：0.5533849728671868,训练集acc: 0.8698468804359436,验证集 loss：0.5484604654826869,验证集 acc: 0.8702905178070068\n",
      "epoch 150,训练集 loss：0.5546785971099175,训练集acc: 0.8704298734664917,验证集 loss：0.5477360713703725,验证集 acc: 0.8709064722061157\n",
      "epoch 160,训练集 loss：0.5476287494221644,训练集acc: 0.8708038330078125,验证集 loss：0.5470968191582504,验证集 acc: 0.8713427782058716\n",
      "epoch 170,训练集 loss：0.5417050814017539,训练集acc: 0.8713647723197937,验证集 loss：0.5465279378790969,验证集 acc: 0.8719074130058289\n",
      "epoch 180,训练集 loss：0.5469674650993078,训练集acc: 0.8718487620353699,验证集 loss：0.5460153287478601,验证集 acc: 0.8720100522041321\n",
      "epoch 190,训练集 loss：0.5445733318963965,训练集acc: 0.872167706489563,验证集 loss：0.5455509816189743,验证集 acc: 0.8722923994064331\n",
      "epoch 200,训练集 loss：0.5465914596429701,训练集acc: 0.8724316954612732,验证集 loss：0.5451262675804093,验证集 acc: 0.8722667098045349\n",
      "epoch 210,训练集 loss：0.5434528760455453,训练集acc: 0.8727726936340332,验证集 loss：0.5447307349387039,验证集 acc: 0.8723693490028381\n",
      "epoch 220,训练集 loss：0.5488114695981913,训练集acc: 0.8729376792907715,验证集 loss：0.54436267744115,验证集 acc: 0.8727030158042908\n",
      "epoch 230,训练集 loss：0.5428747423164149,训练集acc: 0.8731686472892761,验证集 loss：0.5440226524362702,验证集 acc: 0.8728826642036438\n",
      "epoch 240,训练集 loss：0.5421874014598558,训练集acc: 0.8733886480331421,验证集 loss：0.5437061821353484,验证集 acc: 0.8730623126029968\n",
      "epoch 250,训练集 loss：0.5492405165711572,训练集acc: 0.873564600944519,验证集 loss：0.5434129137191568,验证集 acc: 0.873088002204895\n",
      "epoch 260,训练集 loss：0.5398186159373002,训练集acc: 0.8736305832862854,验证集 loss：0.5431396081036528,验证集 acc: 0.8731906414031982\n",
      "epoch 270,训练集 loss：0.5458271943187585,训练集acc: 0.8737075924873352,验证集 loss：0.542888154295129,验证集 acc: 0.8733702898025513\n",
      "epoch 280,训练集 loss：0.5396982083175721,训练集acc: 0.8738065958023071,验证集 loss：0.542653280383965,验证集 acc: 0.8734729290008545\n",
      "epoch 290,训练集 loss：0.5489410279249636,训练集acc: 0.873960554599762,验证集 loss：0.5424369965364335,验证集 acc: 0.8734216094017029\n",
      "epoch 300,训练集 loss：0.5459408044251847,训练集acc: 0.8740925788879395,验证集 loss：0.5422349259133459,验证集 acc: 0.8734729290008545\n",
      "03:13:379355\n"
     ]
    }
   ],
   "source": [
    "model =ANN()\n",
    "time0 = time()\n",
    "ANN_train_acc,ANN_vaild_acc,ANN_loss_train,ANN_loss_vaild=tarin_model(model)\n",
    "ANN_time = datetime.datetime.fromtimestamp(time()-time0).strftime(\"%M:%S:%f\")\n",
    "print(ANN_time)"
   ]
  },
  {
   "cell_type": "code",
   "execution_count": 270,
   "id": "3dc01426",
   "metadata": {
    "scrolled": true
   },
   "outputs": [
    {
     "data": {
      "image/png": "[encoded data removed]",
      "text/plain": [
       "<Figure size 432x288 with 1 Axes>"
      ]
     },
     "metadata": {
      "needs_background": "light"
     },
     "output_type": "display_data"
    },
    {
     "data": {
      "image/png": "[encoded data removed]",
      "text/plain": [
       "<Figure size 432x288 with 1 Axes>"
      ]
     },
     "metadata": {
      "needs_background": "light"
     },
     "output_type": "display_data"
    }
   ],
   "source": [
    "#draw_plot(300,train_acc,vaild_acc,loss_train,loss_vaild)\n",
    "draw_plot(300,ANN_train_acc,ANN_vaild_acc,'Accuracy')\n",
    "draw_plot(300,ANN_loss_train,ANN_loss_vaild,'Loss')"
   ]
  },
  {
   "cell_type": "code",
   "execution_count": null,
   "id": "551c6e1b",
   "metadata": {},
   "outputs": [],
   "source": []
  },
  {
   "cell_type": "markdown",
   "id": "fe69d88e",
   "metadata": {},
   "source": [
    "# 深度神经网络"
   ]
  },
  {
   "cell_type": "code",
   "execution_count": 16,
   "id": "17162cc6",
   "metadata": {},
   "outputs": [],
   "source": [
    "class DNN(nn.Module):\n",
    "    def __init__(self):\n",
    "        super().__init__()\n",
    "        self.input  = nn.Linear(22, 256)\n",
    "        self.hidden1  = nn.Linear(256, 128)\n",
    "        self.hidden2  = nn.Linear(128, 2)\n",
    "        self.out = nn.Sigmoid()\n",
    "\n",
    "    def forward(self, x):\n",
    "        x = self.input(x)\n",
    "        x = self.hidden1(F.relu(x))\n",
    "        x = self.hidden2(F.relu(x))\n",
    "        x = self.out(x)\n",
    "        return x"
   ]
  },
  {
   "cell_type": "code",
   "execution_count": 37,
   "id": "77dc112b",
   "metadata": {},
   "outputs": [
    {
     "name": "stdout",
     "output_type": "stream",
     "text": [
      "epoch 10,训练集 loss：0.5438030258605465,训练集acc: 0.835859477519989,验证集 loss：0.5407230080373288,验证集 acc: 0.8341032862663269\n",
      "epoch 20,训练集 loss：0.46846979035674813,训练集acc: 0.8588037490844727,验证集 loss：0.4713845115072008,验证集 acc: 0.8564572334289551\n",
      "epoch 30,训练集 loss：0.44288716843076503,训练集acc: 0.8703088760375977,验证集 loss：0.45086714480314805,验证集 acc: 0.868878960609436\n",
      "epoch 40,训练集 loss：0.4470887594796791,训练集acc: 0.8790202140808105,验证集 loss：0.4398732038302414,验证集 acc: 0.8774766325950623\n",
      "epoch 50,训练集 loss：0.4324752826183636,训练集acc: 0.8852787017822266,验证集 loss：0.4326038402262184,验证集 acc: 0.8837901949882507\n",
      "epoch 60,训练集 loss：0.431047024882871,训练集acc: 0.8896563649177551,验证集 loss：0.42751015858942665,验证集 acc: 0.888640820980072\n",
      "epoch 70,训练集 loss：0.416518880205565,训练集acc: 0.8930221199989319,验证集 loss：0.42380223149566526,验证集 acc: 0.8918488621711731\n",
      "epoch 80,训练集 loss：0.4121967841603698,训练集acc: 0.896332859992981,验证集 loss：0.42089113062372613,验证集 acc: 0.8947746753692627\n",
      "epoch 90,训练集 loss：0.41036529110528164,训练集acc: 0.899104654788971,验证集 loss：0.41840495751860163,验证集 acc: 0.8977517485618591\n",
      "epoch 100,训练集 loss：0.4162324358524396,训练集acc: 0.9010735154151917,验证集 loss：0.4161770239600024,验证集 acc: 0.9006005525588989\n",
      "epoch 110,训练集 loss：0.41765445511736543,训练集acc: 0.9032953381538391,验证集 loss：0.4141009413479929,验证集 acc: 0.9025254249572754\n",
      "epoch 120,训练集 loss：0.40745853560571493,训练集acc: 0.9052861928939819,验证集 loss：0.41211706293243916,验证集 acc: 0.9043475985527039\n",
      "epoch 130,训练集 loss：0.40455528824043524,训练集acc: 0.9074530601501465,验证集 loss：0.41016920551131497,验证集 acc: 0.9063494801521301\n",
      "epoch 140,训练集 loss：0.40836817557522687,训练集acc: 0.9093669056892395,验证集 loss：0.40823153342764246,验证集 acc: 0.9085052609443665\n",
      "epoch 150,训练集 loss：0.40954941593664485,训练集acc: 0.9110607504844666,验证集 loss：0.4062173969000579,验证集 acc: 0.9105584621429443\n",
      "epoch 160,训练集 loss：0.3992892657342894,训练集acc: 0.9127326607704163,验证集 loss：0.4040617916383074,验证集 acc: 0.9119443297386169\n",
      "epoch 170,训练集 loss：0.40700842947764027,训练集acc: 0.9144154787063599,验证集 loss：0.40170680845345635,验证集 acc: 0.9135099053382874\n",
      "epoch 180,训练集 loss：0.39806544837948504,训练集acc: 0.91627436876297,验证集 loss：0.39915920748875267,验证集 acc: 0.9146904945373535\n",
      "epoch 190,训练集 loss：0.3924737367449898,训练集acc: 0.9176492691040039,验证集 loss：0.3965608544825111,验证集 acc: 0.9158710837364197\n",
      "epoch 200,训练集 loss：0.40222762923863015,训练集acc: 0.9191231727600098,验证集 loss：0.39420893477739366,验证集 acc: 0.9175392389297485\n",
      "epoch 210,训练集 loss：0.4024437929150925,训练集acc: 0.9205530285835266,验证集 loss：0.39232365198068486,验证集 acc: 0.9191561341285706\n",
      "epoch 220,训练集 loss：0.3991782093534576,训练集acc: 0.9218839406967163,验证集 loss：0.3907941090561281,验证集 acc: 0.9204137325286865\n",
      "epoch 230,训练集 loss：0.3992181996072356,训练集acc: 0.923390805721283,验证集 loss：0.3895293020507863,验证集 acc: 0.9216969609260559\n",
      "epoch 240,训练集 loss：0.3914105126399291,训练集acc: 0.9242377877235413,验证集 loss：0.3884464052721221,验证集 acc: 0.9229544997215271\n",
      "epoch 250,训练集 loss：0.3979316160412151,训练集acc: 0.9252606630325317,验证集 loss：0.38750232669982165,验证集 acc: 0.9242120981216431\n",
      "epoch 260,训练集 loss：0.38720266665480435,训练集acc: 0.9260196089744568,验证集 loss：0.38664563210062325,验证集 acc: 0.9250333905220032\n",
      "epoch 270,训练集 loss：0.396586701463355,训练集acc: 0.9269325733184814,验证集 loss：0.3857533061652076,验证集 acc: 0.9262139201164246\n",
      "epoch 280,训练集 loss：0.3839642596606449,训练集acc: 0.9280324578285217,验证集 loss：0.3846103701887257,验证集 acc: 0.9274458289146423\n",
      "epoch 290,训练集 loss：0.3792317159194845,训练集acc: 0.929814338684082,验证集 loss：0.38305289990796365,验证集 acc: 0.9289600849151611\n",
      "epoch 300,训练集 loss：0.3849692534512968,训练集acc: 0.9315522313117981,验证集 loss：0.38162338660398804,验证集 acc: 0.9296273589134216\n",
      "05:47:489373\n"
     ]
    }
   ],
   "source": [
    "model =DNN()\n",
    "time1 = time()\n",
    "DNN_train_acc,DNN_vaild_acc,DNN_loss_train,DNN_loss_vaild=tarin_model(model)\n",
    "DNN_time = datetime.datetime.fromtimestamp(time()-time1).strftime(\"%M:%S:%f\")\n",
    "print(DNN_time)"
   ]
  },
  {
   "cell_type": "code",
   "execution_count": 271,
   "id": "50e16e79",
   "metadata": {},
   "outputs": [
    {
     "data": {
      "image/png": "[encoded data removed]",
      "text/plain": [
       "<Figure size 432x288 with 1 Axes>"
      ]
     },
     "metadata": {
      "needs_background": "light"
     },
     "output_type": "display_data"
    },
    {
     "data": {
      "image/png": "[encoded data removed]",
      "text/plain": [
       "<Figure size 432x288 with 1 Axes>"
      ]
     },
     "metadata": {
      "needs_background": "light"
     },
     "output_type": "display_data"
    }
   ],
   "source": [
    "draw_plot(300,DNN_train_acc,DNN_vaild_acc,'Accuracy')\n",
    "draw_plot(300,DNN_loss_train,DNN_loss_vaild,'Loss')"
   ]
  },
  {
   "cell_type": "markdown",
   "id": "4edb0db0",
   "metadata": {},
   "source": [
    "# 长短记忆"
   ]
  },
  {
   "cell_type": "code",
   "execution_count": 48,
   "id": "c272aca5",
   "metadata": {},
   "outputs": [],
   "source": [
    "class LSTM(nn.Module):\n",
    "    def __init__(self):\n",
    "        super().__init__()\n",
    "        self.LSTM = nn.LSTM(22,32,num_layers=1)\n",
    "        self.hidden = nn.Linear(32, 128)\n",
    "        self.hidden1  = nn.Linear(128, 2)\n",
    "        self.out  =  nn.Sigmoid()\n",
    "    def forward(self, x):\n",
    "        x,h= self.LSTM(x)\n",
    "        x = self.hidden(x)\n",
    "        x = self.hidden1(x)\n",
    "        x = self.out(x)\n",
    "        return x"
   ]
  },
  {
   "cell_type": "code",
   "execution_count": 49,
   "id": "ab271f77",
   "metadata": {},
   "outputs": [
    {
     "name": "stdout",
     "output_type": "stream",
     "text": [
      "epoch 10,训练集 loss：0.6712640216337762,训练集acc: 0.5663909316062927,验证集 loss：0.6774829532357591,验证集 acc: 0.563545823097229\n",
      "epoch 20,训练集 loss：0.6561624725162333,训练集acc: 0.59690260887146,验证集 loss：0.6552369962352238,验证集 acc: 0.5924699902534485\n",
      "epoch 30,训练集 loss：0.5991314310504193,训练集acc: 0.7654208540916443,验证集 loss：0.6068706618553015,验证集 acc: 0.7621137499809265\n",
      "epoch 40,训练集 loss：0.5413664682289172,训练集acc: 0.8069206476211548,验证集 loss：0.5517759023676019,验证集 acc: 0.8029463291168213\n",
      "epoch 50,训练集 loss：0.5118427808523407,训练集acc: 0.8259052038192749,验证集 loss：0.5142620181188762,验证集 acc: 0.8249152898788452\n",
      "epoch 60,训练集 loss：0.4949093925809394,训练集acc: 0.8431299328804016,验证集 loss：0.48893336930366466,验证集 acc: 0.8412637114524841\n",
      "epoch 70,训练集 loss：0.460285268004429,训练集acc: 0.8547890186309814,验证集 loss：0.47102700454191465,验证集 acc: 0.8546093702316284\n",
      "epoch 80,训练集 loss：0.4498620348205159,训练集acc: 0.8643693327903748,验证集 loss：0.458098819477689,验证集 acc: 0.8636177182197571\n",
      "epoch 90,训练集 loss：0.44016349968254875,训练集acc: 0.8700778484344482,验证集 loss：0.4487256928270711,验证集 acc: 0.8701108694076538\n",
      "epoch 100,训练集 loss：0.4614104313253519,训练集acc: 0.875577449798584,验证集 loss：0.44173502064645315,验证集 acc: 0.8753464818000793\n",
      "epoch 110,训练集 loss：0.43629347466171425,训练集acc: 0.8791961669921875,验证集 loss：0.4365252925776036,验证集 acc: 0.8789395093917847\n",
      "epoch 120,训练集 loss：0.4313158312850477,训练集acc: 0.8818579912185669,验证集 loss：0.43248331745799634,验证集 acc: 0.8821732997894287\n",
      "epoch 130,训练集 loss：0.4316361160255811,训练集acc: 0.8839698433876038,验证集 loss：0.42922555494948605,验证集 acc: 0.8842778205871582\n",
      "epoch 140,训练集 loss：0.42603950940360963,训练集acc: 0.8858836889266968,验证集 loss：0.4265556433850064,验证集 acc: 0.8859973549842834\n",
      "epoch 150,训练集 loss：0.42133566443333353,训练集acc: 0.8873135447502136,验证集 loss：0.4242564466995392,验证集 acc: 0.8878452181816101\n",
      "epoch 160,训练集 loss：0.43427366955946556,训练集acc: 0.889975368976593,验证集 loss：0.42219969783897116,验证集 acc: 0.8898983597755432\n",
      "epoch 170,训练集 loss：0.4340237353985345,训练集acc: 0.8916692137718201,验证集 loss：0.4203277580976484,验证集 acc: 0.8913612365722656\n",
      "epoch 180,训练集 loss：0.44043160873585746,训练集acc: 0.8934180736541748,验证集 loss：0.4185977946886629,验证集 acc: 0.893722414970398\n",
      "epoch 190,训练集 loss：0.4172849190578722,训练集acc: 0.8951999545097351,验证集 loss：0.4170241561287136,验证集 acc: 0.8952879309654236\n",
      "epoch 200,训练集 loss：0.4289876753697666,训练集acc: 0.8963989019393921,验证集 loss：0.4155151760748743,验证集 acc: 0.897033154964447\n",
      "epoch 210,训练集 loss：0.42112038477859387,训练集acc: 0.898367702960968,验证集 loss：0.41405567044445585,验证集 acc: 0.8981624245643616\n",
      "epoch 220,训练集 loss：0.4227629526057855,训练集acc: 0.8998966217041016,验证集 loss：0.4126550193613526,验证集 acc: 0.8993686437606812\n",
      "epoch 230,训练集 loss：0.42328937170683867,训练集acc: 0.9017444849014282,验证集 loss：0.4112615870690701,验证集 acc: 0.9011651873588562\n",
      "epoch 240,训练集 loss：0.4203544631144907,训练集acc: 0.9028334021568298,验证集 loss：0.40983341143928126,验证集 acc: 0.9027050733566284\n",
      "epoch 250,训练集 loss：0.4102676556297481,训练集acc: 0.9038892984390259,验证集 loss：0.40840002391629693,验证集 acc: 0.904270589351654\n",
      "epoch 260,训练集 loss：0.40553150990604436,训练集acc: 0.9054402112960815,验证集 loss：0.40696345141077733,验证集 acc: 0.9055538177490234\n",
      "epoch 270,训练集 loss：0.40694098607421403,训练集acc: 0.906386137008667,验证集 loss：0.405490841317612,验证集 acc: 0.9068371057510376\n",
      "epoch 280,训练集 loss：0.3993124623774179,训练集acc: 0.9076070189476013,验证集 loss：0.4040009440863492,验证集 acc: 0.908017635345459\n",
      "epoch 290,训练集 loss：0.4022147174625653,训练集acc: 0.9090149402618408,验证集 loss：0.4024915566200422,验证集 acc: 0.9090442657470703\n",
      "epoch 300,训练集 loss：0.3953947343583868,训练集acc: 0.9101258516311646,验证集 loss：0.40095868739822144,验证集 acc: 0.9104045033454895\n",
      "10:33:841714\n"
     ]
    }
   ],
   "source": [
    "model =LSTM()\n",
    "time2 = time()\n",
    "LSTM_train_acc,LSTM_vaild_acc,LSTM_loss_train,LSTM_loss_vaild=tarin_model(model)\n",
    "LSTM_time = datetime.datetime.fromtimestamp(time()-time2).strftime(\"%M:%S:%f\")\n",
    "print(LSTM_time)"
   ]
  },
  {
   "cell_type": "code",
   "execution_count": 272,
   "id": "ae160f95",
   "metadata": {},
   "outputs": [
    {
     "data": {
      "image/png": "[encoded data removed]",
      "text/plain": [
       "<Figure size 432x288 with 1 Axes>"
      ]
     },
     "metadata": {
      "needs_background": "light"
     },
     "output_type": "display_data"
    },
    {
     "data": {
      "image/png": "[encoded data removed]",
      "text/plain": [
       "<Figure size 432x288 with 1 Axes>"
      ]
     },
     "metadata": {
      "needs_background": "light"
     },
     "output_type": "display_data"
    }
   ],
   "source": [
    "draw_plot(300,LSTM_train_acc,LSTM_vaild_acc,'Accuracy')\n",
    "draw_plot(300,LSTM_loss_train,LSTM_loss_vaild,'Loss')"
   ]
  },
  {
   "cell_type": "markdown",
   "id": "31a654ce",
   "metadata": {},
   "source": [
    "# 卷积神经网络"
   ]
  },
  {
   "cell_type": "code",
   "execution_count": 51,
   "id": "51d08d3d",
   "metadata": {},
   "outputs": [],
   "source": [
    "class CNN(nn.Module):\n",
    "    def __init__(self):\n",
    "        super().__init__() \n",
    "        self.conv =  nn.Conv1d(1,22,4)\n",
    "        self.hidden = nn.Linear(418, 256)\n",
    "        self.hidden1   = nn.Linear(256, 2)\n",
    "        self.out = nn.Sigmoid()\n",
    "\n",
    "    def forward(self, x):\n",
    "        x= x.reshape([-1,1,22])\n",
    "        x= self.conv(x)\n",
    "        x = x.view(x.size(0),-1)\n",
    "        x=  self.hidden(F.relu(x))\n",
    "        x=  self.hidden1(F.relu(x))\n",
    "        x=  self.out(x)\n",
    "\n",
    "        return x"
   ]
  },
  {
   "cell_type": "code",
   "execution_count": 52,
   "id": "2abe61fe",
   "metadata": {},
   "outputs": [
    {
     "name": "stdout",
     "output_type": "stream",
     "text": [
      "epoch 10,训练集 loss：0.4747197867453549,训练集acc: 0.8553829789161682,验证集 loss：0.4800186188925192,验证集 acc: 0.8553793430328369\n",
      "epoch 20,训练集 loss：0.4241908461782708,训练集acc: 0.8739715814590454,验证集 loss：0.44760699583903746,验证集 acc: 0.8748331665992737\n",
      "epoch 30,训练集 loss：0.431649340767971,训练集acc: 0.883496880531311,验证集 loss：0.4343125260165867,验证集 acc: 0.8831998705863953\n",
      "epoch 40,训练集 loss：0.41635227409921904,训练集acc: 0.8895353674888611,验证集 loss：0.4261556851773377,验证集 acc: 0.8897700309753418\n",
      "epoch 50,训练集 loss：0.41798575209720557,训练集acc: 0.8941330313682556,验证集 loss：0.420455543824344,验证集 acc: 0.8935427665710449\n",
      "epoch 60,训练集 loss：0.3997071689338179,训练集acc: 0.8980377316474915,验证集 loss：0.4162536609515296,验证集 acc: 0.8970588445663452\n",
      "epoch 70,训练集 loss：0.41765742410591244,训练集acc: 0.9008975028991699,验证集 loss：0.41292084415985003,验证集 acc: 0.9001386165618896\n",
      "epoch 80,训练集 loss：0.4214422054104918,训练集acc: 0.9035923480987549,验证集 loss：0.4100484712346259,验证集 acc: 0.9030900597572327\n",
      "epoch 90,训练集 loss：0.4051910850971747,训练集acc: 0.9059461355209351,验证集 loss：0.40737470911699447,验证集 acc: 0.9055538177490234\n",
      "epoch 100,训练集 loss：0.3951485158871893,训练集acc: 0.9083109498023987,验证集 loss：0.4046973513549677,验证集 acc: 0.9075813293457031\n",
      "epoch 110,训练集 loss：0.4013221120399722,训练集acc: 0.9104558229446411,验证集 loss：0.40201038785022186,验证集 acc: 0.9097628593444824\n",
      "epoch 120,训练集 loss：0.4127689831853786,训练集acc: 0.9129196405410767,验证集 loss：0.3992026223393421,验证集 acc: 0.9119700193405151\n",
      "epoch 130,训练集 loss：0.4016379689717549,训练集acc: 0.9151634573936462,验证集 loss：0.3965171064575316,验证集 acc: 0.914023220539093\n",
      "epoch 140,训练集 loss：0.39200665639570237,训练集acc: 0.917033314704895,验证集 loss：0.39416506802891316,验证集 acc: 0.9163073897361755\n",
      "epoch 150,训练集 loss：0.39959130974254775,训练集acc: 0.9187601804733276,验证集 loss：0.3922276223925633,验证集 acc: 0.9177189469337463\n",
      "epoch 160,训练集 loss：0.39722439822693845,训练集acc: 0.9202120900154114,验证集 loss：0.39053974137792496,验证集 acc: 0.9194898009300232\n",
      "epoch 170,训练集 loss：0.3843042489893441,训练集acc: 0.9215539693832397,验证集 loss：0.38906857101248726,验证集 acc: 0.9210039973258972\n",
      "epoch 180,训练集 loss：0.39226136367867365,训练集acc: 0.9225108623504639,验证集 loss：0.38780635752315773,验证集 acc: 0.9219792485237122\n",
      "epoch 190,训练集 loss：0.3865892173453406,训练集acc: 0.9232478141784668,验证集 loss：0.3866167797415238,验证集 acc: 0.9230315089225769\n",
      "epoch 200,训练集 loss：0.39302872917485904,训练集acc: 0.9242157340049744,验证集 loss：0.38565897996869547,验证集 acc: 0.9238784313201904\n",
      "epoch 210,训练集 loss：0.3946950104910879,训练集acc: 0.9249857068061829,验证集 loss：0.3847631325284886,验证集 acc: 0.9244430661201477\n",
      "epoch 220,训练集 loss：0.3962235795195833,训练集acc: 0.92576664686203,验证集 loss：0.3839123658882236,验证集 acc: 0.925187349319458\n",
      "epoch 230,训练集 loss：0.38803197029468917,训练集acc: 0.9262505769729614,验证集 loss：0.3831870915250655,验证集 acc: 0.9255466461181641\n",
      "epoch 240,训练集 loss：0.38211925818435677,训练集acc: 0.9267565608024597,验证集 loss：0.38246252079353465,验证集 acc: 0.9261369705200195\n",
      "epoch 250,训练集 loss：0.3768755513468219,训练集acc: 0.9273615479469299,验证集 loss：0.38180390470649184,验证集 acc: 0.9265732765197754\n",
      "epoch 260,训练集 loss：0.3883190784275351,训练集acc: 0.9279554486274719,验证集 loss：0.3811928851450898,验证集 acc: 0.9267272353172302\n",
      "epoch 270,训练集 loss：0.38451385187894727,训练集acc: 0.9285164475440979,验证集 loss：0.3806391207448257,验证集 acc: 0.9271891713142395\n",
      "epoch 280,训练集 loss：0.3792294761221877,训练集acc: 0.9290223717689514,验证集 loss：0.37996165404686183,验证集 acc: 0.9280361533164978\n",
      "epoch 290,训练集 loss：0.3769306446299476,训练集acc: 0.9293853640556335,验证集 loss：0.3793676517153755,验证集 acc: 0.9286777377128601\n",
      "epoch 300,训练集 loss：0.38858865113861246,训练集acc: 0.9297483563423157,验证集 loss：0.3788060792589075,验证集 acc: 0.9290370345115662\n",
      "10:24:148053\n"
     ]
    }
   ],
   "source": [
    "model =CNN()\n",
    "time3 = time()\n",
    "CNN_train_acc,CNN_vaild_acc,CNN_loss_train,CNN_loss_vaild=tarin_model(model)\n",
    "CNN_time = datetime.datetime.fromtimestamp(time()-time3).strftime(\"%M:%S:%f\")\n",
    "print(CNN_time)"
   ]
  },
  {
   "cell_type": "code",
   "execution_count": 273,
   "id": "ad5c4b4d",
   "metadata": {},
   "outputs": [
    {
     "data": {
      "image/png": "[encoded data removed]",
      "text/plain": [
       "<Figure size 432x288 with 1 Axes>"
      ]
     },
     "metadata": {
      "needs_background": "light"
     },
     "output_type": "display_data"
    },
    {
     "data": {
      "image/png": "[encoded data removed]",
      "text/plain": [
       "<Figure size 432x288 with 1 Axes>"
      ]
     },
     "metadata": {
      "needs_background": "light"
     },
     "output_type": "display_data"
    }
   ],
   "source": [
    "draw_plot(300,CNN_train_acc,CNN_vaild_acc,'Accuracy')\n",
    "draw_plot(300,CNN_loss_train,CNN_loss_vaild,'Loss')"
   ]
  },
  {
   "cell_type": "markdown",
   "id": "67bfb642",
   "metadata": {},
   "source": [
    "# 各模型准确率分析"
   ]
  },
  {
   "cell_type": "code",
   "execution_count": 280,
   "id": "c72e307d",
   "metadata": {},
   "outputs": [],
   "source": [
    "def bar(y1,y2,xticks):\n",
    "    #fig = plt.figure(figsize=(5, 5))\n",
    "#     plt.rcParams['font.family'] = 'simhei'\n",
    "   # plt.title('双柱状图', fontsize=15)\n",
    "    plt.bar(np.arange(len(y1)), y1, width=0.4, color='tomato', label='train')\n",
    "    for x, y in enumerate(y1):\n",
    "        plt.text(x-0.15, y+0.04, round(y.item(),3),fontsize=12)\n",
    "        \n",
    "    plt.bar(np.arange(len(y2)) + 0.4, y2, width=0.4, color='steelblue', label='test')\n",
    "    for x, y in enumerate(y2):\n",
    "        plt.text(x + 0.23, y+0.04, round(y.item(),3),fontsize=12)\n",
    "        \n",
    "    plt.xticks(np.arange(len(xticks))+0.2 , xticks,fontsize=15)\n",
    "    plt.yticks(np.arange(0,1.3,0.1) , [0.1,0.2,0.3,0.4,0.5,0.6,0.7,0.8,0.9,1,\"\",\"\",\"\"],fontsize=13)\n",
    "    plt.ylabel('Accuracy',fontsize=16)\n",
    "    plt.legend(loc='upper left')\n",
    "    plt.show()\n"
   ]
  },
  {
   "cell_type": "code",
   "execution_count": 281,
   "id": "48998c2e",
   "metadata": {},
   "outputs": [
    {
     "data": {
      "image/png": "[encoded data removed]",
      "text/plain": [
       "<Figure size 432x288 with 1 Axes>"
      ]
     },
     "metadata": {
      "needs_background": "light"
     },
     "output_type": "display_data"
    }
   ],
   "source": [
    "train_acc = [max(ANN_train_acc),max(DNN_train_acc),max(LSTM_train_acc),max(CNN_train_acc)]\n",
    "vaild_acc = [max(ANN_vaild_acc),max(DNN_vaild_acc),max(LSTM_vaild_acc),max(CNN_vaild_acc)]\n",
    "xticks = ['ANN', 'DNN', 'LSTM', 'CNN']\n",
    "bar(train_acc,vaild_acc,xticks)\n"
   ]
  },
  {
   "cell_type": "code",
   "execution_count": null,
   "id": "a931bd59",
   "metadata": {},
   "outputs": [],
   "source": []
  }
 ],
 "metadata": {
  "kernelspec": {
   "display_name": "Python 3 (ipykernel)",
   "language": "python",
   "name": "python3"
  },
  "language_info": {
   "codemirror_mode": {
    "name": "ipython",
    "version": 3
   },
   "file_extension": ".py",
   "mimetype": "text/x-python",
   "name": "python",
   "nbconvert_exporter": "python",
   "pygments_lexer": "ipython3",
   "version": "3.9.12"
  },
  "toc": {
   "base_numbering": 1,
   "nav_menu": {
    "height": "137.975px",
    "width": "437.708px"
   },
   "number_sections": true,
   "sideBar": true,
   "skip_h1_title": false,
   "title_cell": "Table of Contents",
   "title_sidebar": "Contents",
   "toc_cell": false,
   "toc_position": {},
   "toc_section_display": true,
   "toc_window_display": true
  }
 },
 "nbformat": 4,
 "nbformat_minor": 5
}
